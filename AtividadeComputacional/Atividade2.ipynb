{
 "cells": [
  {
   "cell_type": "markdown",
   "metadata": {},
   "source": [
    "Considere a função \\( f(x) = x \\cos(x)e^x \\). Determine os polinômios de Taylor de ordens 2, 3 e 4 para essa função em torno do ponto \\( x = 0 \\). Em seguida, calcule os erros de aproximação para cada polinômio de Taylor em \\( x = \\frac{1}{\\pi^2} \\). Apresente os valores reais da função, os valores aproximados pelos polinômios de Taylor e os respectivos erros de aproximação para cada ordem."
   ]
  },
  {
   "cell_type": "code",
   "execution_count": 1,
   "metadata": {},
   "outputs": [
    {
     "name": "stdout",
     "output_type": "stream",
     "text": [
      "Valor real de f(x) em x = 0.10132118364233778: 0.1115502200\n",
      "Valor aproximado por T2(x): 0.1115871659\n",
      "Erro de aproximação para T2(x): 0.0000369459\n",
      "Valor aproximado por T3(x): 0.1115871659\n",
      "Erro de aproximação para T3(x): 0.0000369459\n",
      "Valor aproximado por T4(x): 0.1115520358\n",
      "Erro de aproximação para T4(x): 0.0000018158\n"
     ]
    }
   ],
   "source": [
    "import sympy as sp\n",
    "import numpy as np\n",
    "\n",
    "# Definindo a variável\n",
    "x = sp.symbols('x')\n",
    "\n",
    "# Definindo a função\n",
    "f = x * sp.cos(x) * sp.exp(x)\n",
    "\n",
    "# Calculando as derivadas\n",
    "f_prime = sp.diff(f, x)\n",
    "f_double_prime = sp.diff(f_prime, x)\n",
    "f_triple_prime = sp.diff(f_double_prime, x)\n",
    "f_quad_prime = sp.diff(f_triple_prime, x)\n",
    "\n",
    "# Avaliando as derivadas em x = 0\n",
    "f_0 = f.subs(x, 0)\n",
    "f_prime_0 = f_prime.subs(x, 0)\n",
    "f_double_prime_0 = f_double_prime.subs(x, 0)\n",
    "f_triple_prime_0 = f_triple_prime.subs(x, 0)\n",
    "f_quad_prime_0 = f_quad_prime.subs(x, 0)\n",
    "\n",
    "# Construindo os polinômios de Taylor\n",
    "T2 = f_0 + f_prime_0*x + f_double_prime_0*x**2/sp.factorial(2)\n",
    "T3 = T2 + f_triple_prime_0*x**3/sp.factorial(3)\n",
    "T4 = T3 + f_quad_prime_0*x**4/sp.factorial(4)\n",
    "\n",
    "# Definindo a função para avaliação numérica\n",
    "f_numeric = sp.lambdify(x, f, 'numpy')\n",
    "T2_numeric = sp.lambdify(x, T2, 'numpy')\n",
    "T3_numeric = sp.lambdify(x, T3, 'numpy')\n",
    "T4_numeric = sp.lambdify(x, T4, 'numpy')\n",
    "\n",
    "# Ponto de avaliação\n",
    "x_val = 1 / np.pi**2\n",
    "\n",
    "# Valores reais e aproximados\n",
    "f_real = f_numeric(x_val)\n",
    "T2_approx = T2_numeric(x_val)\n",
    "T3_approx = T3_numeric(x_val)\n",
    "T4_approx = T4_numeric(x_val)\n",
    "\n",
    "# Erros de aproximação\n",
    "error_T2 = abs(f_real - T2_approx)\n",
    "error_T3 = abs(f_real - T3_approx)\n",
    "error_T4 = abs(f_real - T4_approx)\n",
    "\n",
    "# Resultados\n",
    "print(f\"Valor real de f(x) em x = {x_val}: {f_real:.10f}\")\n",
    "print(f\"Valor aproximado por T2(x): {T2_approx:.10f}\")\n",
    "print(f\"Erro de aproximação para T2(x): {error_T2:.10f}\")\n",
    "print(f\"Valor aproximado por T3(x): {T3_approx:.10f}\")\n",
    "print(f\"Erro de aproximação para T3(x): {error_T3:.10f}\")\n",
    "print(f\"Valor aproximado por T4(x): {T4_approx:.10f}\")\n",
    "print(f\"Erro de aproximação para T4(x): {error_T4:.10f}\")\n"
   ]
  }
 ],
 "metadata": {
  "kernelspec": {
   "display_name": "Python 3",
   "language": "python",
   "name": "python3"
  },
  "language_info": {
   "codemirror_mode": {
    "name": "ipython",
    "version": 3
   },
   "file_extension": ".py",
   "mimetype": "text/x-python",
   "name": "python",
   "nbconvert_exporter": "python",
   "pygments_lexer": "ipython3",
   "version": "3.12.3"
  }
 },
 "nbformat": 4,
 "nbformat_minor": 2
}
